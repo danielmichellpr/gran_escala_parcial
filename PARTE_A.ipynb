{
 "cells": [
  {
   "cell_type": "markdown",
   "id": "ccf754f4",
   "metadata": {},
   "source": [
    "## ETL con el cluster"
   ]
  },
  {
   "cell_type": "code",
   "execution_count": null,
   "id": "1024769f",
   "metadata": {},
   "outputs": [
    {
     "name": "stdout",
     "output_type": "stream",
     "text": [
      "Starting Spark application\n"
     ]
    },
    {
     "data": {
      "text/html": [
       "<table>\n",
       "<tr><th>ID</th><th>YARN Application ID</th><th>Kind</th><th>State</th><th>Spark UI</th><th>Driver log</th><th>User</th><th>Current session?</th></tr><tr><td>1</td><td>application_1746299663530_0002</td><td>pyspark</td><td>idle</td><td><a target=\"_blank\" href=\"http://ip-172-31-0-196.ec2.internal:20888/proxy/application_1746299663530_0002/\">Link</a></td><td><a target=\"_blank\" href=\"http://ip-172-31-4-161.ec2.internal:8042/node/containerlogs/container_1746299663530_0002_01_000001/livy\">Link</a></td><td>None</td><td>✔</td></tr></table>"
      ],
      "text/plain": [
       "<IPython.core.display.HTML object>"
      ]
     },
     "metadata": {},
     "output_type": "display_data"
    },
    {
     "data": {
      "application/vnd.jupyter.widget-view+json": {
       "model_id": "",
       "version_major": 2,
       "version_minor": 0
      },
      "text/plain": [
       "FloatProgress(value=0.0, bar_style='info', description='Progress:', layout=Layout(height='25px', width='50%'),…"
      ]
     },
     "metadata": {},
     "output_type": "display_data"
    },
    {
     "name": "stdout",
     "output_type": "stream",
     "text": [
      "SparkSession available as 'spark'.\n"
     ]
    },
    {
     "data": {
      "application/vnd.jupyter.widget-view+json": {
       "model_id": "",
       "version_major": 2,
       "version_minor": 0
      },
      "text/plain": [
       "FloatProgress(value=0.0, bar_style='info', description='Progress:', layout=Layout(height='25px', width='50%'),…"
      ]
     },
     "metadata": {},
     "output_type": "display_data"
    }
   ],
   "source": [
    "from pyspark.sql import SparkSession\n",
    "spark = SparkSession.builder \\\n",
    "    .appName('profeco_etl') \\\n",
    "    .getOrCreate()"
   ]
  },
  {
   "cell_type": "code",
   "execution_count": null,
   "id": "51fa8400",
   "metadata": {},
   "outputs": [
    {
     "data": {
      "application/vnd.jupyter.widget-view+json": {
       "model_id": "",
       "version_major": 2,
       "version_minor": 0
      },
      "text/plain": [
       "FloatProgress(value=0.0, bar_style='info', description='Progress:', layout=Layout(height='25px', width='50%'),…"
      ]
     },
     "metadata": {},
     "output_type": "display_data"
    }
   ],
   "source": [
    "from pyspark.sql.functions import count as count_, lit, sum as sum_, round, row_number, desc, sum as sum_, countDistinct, when, lower, trim, count, avg, first\n",
    "from pyspark.sql.window import Window\n",
    "from pyspark.sql.types import StructType, StructField, StringType, IntegerType, FloatType"
   ]
  },
  {
   "cell_type": "markdown",
   "id": "c4288ca5",
   "metadata": {},
   "source": [
    "### Carga el CSV en Spark"
   ]
  },
  {
   "cell_type": "code",
   "execution_count": null,
   "id": "cc2c4b46",
   "metadata": {},
   "outputs": [
    {
     "data": {
      "application/vnd.jupyter.widget-view+json": {
       "model_id": "",
       "version_major": 2,
       "version_minor": 0
      },
      "text/plain": [
       "FloatProgress(value=0.0, bar_style='info', description='Progress:', layout=Layout(height='25px', width='50%'),…"
      ]
     },
     "metadata": {},
     "output_type": "display_data"
    }
   ],
   "source": [
    "schema = StructType([\n",
    "    StructField('producto', StringType(), True),\n",
    "    StructField('presentacion', StringType(), True),\n",
    "    StructField('marca', StringType(), True),\n",
    "    StructField('categoria', StringType(), True),\n",
    "    StructField('catalogo', StringType(), True),\n",
    "    StructField('precio', FloatType(), True),\n",
    "    StructField('fecharegistro', StringType(), True),\n",
    "    StructField('cadenacomercial', StringType(), True),\n",
    "    StructField('giro', StringType(), True),\n",
    "    StructField('nombrecomercial', StringType(), True),\n",
    "    StructField('direccion', StringType(), True),\n",
    "    StructField('estado', StringType(), True),\n",
    "    StructField('municipio', StringType(), True),\n",
    "    StructField('latitud', StringType(), True),\n",
    "    StructField('longitud', StringType(), True),\n",
    "    StructField('anio', IntegerType(), True)    \n",
    "])\n"
   ]
  },
  {
   "cell_type": "code",
   "execution_count": null,
   "id": "a29ff174",
   "metadata": {},
   "outputs": [
    {
     "data": {
      "application/vnd.jupyter.widget-view+json": {
       "model_id": "",
       "version_major": 2,
       "version_minor": 0
      },
      "text/plain": [
       "FloatProgress(value=0.0, bar_style='info', description='Progress:', layout=Layout(height='25px', width='50%'),…"
      ]
     },
     "metadata": {},
     "output_type": "display_data"
    }
   ],
   "source": [
    "# Cargamos los datos de S3, el URI del bucket es s3://itam-analytics-grb/profeco/clean/\n",
    "# anio es int, precio es float. Todo lo demás podemos tratarlo como string\n",
    "df_profeco = spark.read \\\n",
    "    .option('header', True) \\\n",
    "    .schema(schema) \\\n",
    "    .csv('s3://itam-analytics-grb/profeco/clean/')"
   ]
  },
  {
   "cell_type": "code",
   "execution_count": null,
   "id": "e43e89d2",
   "metadata": {},
   "outputs": [
    {
     "data": {
      "application/vnd.jupyter.widget-view+json": {
       "model_id": "",
       "version_major": 2,
       "version_minor": 0
      },
      "text/plain": [
       "FloatProgress(value=0.0, bar_style='info', description='Progress:', layout=Layout(height='25px', width='50%'),…"
      ]
     },
     "metadata": {},
     "output_type": "display_data"
    },
    {
     "name": "stdout",
     "output_type": "stream",
     "text": [
      "+--------+----+\n",
      "|catalogo|anio|\n",
      "+--------+----+\n",
      "|juguetes|2018|\n",
      "|juguetes|2018|\n",
      "|juguetes|2018|\n",
      "|juguetes|2018|\n",
      "|juguetes|2018|\n",
      "+--------+----+\n",
      "only showing top 5 rows"
     ]
    }
   ],
   "source": [
    "# Vamos a guardar en parquet particionado por catalogo y anio. Checamos que existen\n",
    "df_profeco.select(\"catalogo\", \"anio\").show(5)\n"
   ]
  },
  {
   "cell_type": "markdown",
   "id": "1b8138a6",
   "metadata": {},
   "source": [
    "### Guarda el CSV como parquet en S3, particionalo por catalogo. (Utiliza todos los trucos que consideres)."
   ]
  },
  {
   "cell_type": "code",
   "execution_count": null,
   "id": "3969b555",
   "metadata": {},
   "outputs": [
    {
     "data": {
      "application/vnd.jupyter.widget-view+json": {
       "model_id": "",
       "version_major": 2,
       "version_minor": 0
      },
      "text/plain": [
       "FloatProgress(value=0.0, bar_style='info', description='Progress:', layout=Layout(height='25px', width='50%'),…"
      ]
     },
     "metadata": {},
     "output_type": "display_data"
    }
   ],
   "source": [
    "# Guardamos en parquet, comprimido con snappy\n",
    "df_profeco.write \\\n",
    "    .mode('overwrite') \\\n",
    "    .option('compression','snappy') \\\n",
    "    .partitionBy('catalogo', 'anio') \\\n",
    "    .parquet('s3://itam-analytics-grb/profeco/parquet/')\n"
   ]
  },
  {
   "cell_type": "code",
   "execution_count": null,
   "id": "fdd3136e",
   "metadata": {},
   "outputs": [
    {
     "data": {
      "application/vnd.jupyter.widget-view+json": {
       "model_id": "",
       "version_major": 2,
       "version_minor": 0
      },
      "text/plain": [
       "FloatProgress(value=0.0, bar_style='info', description='Progress:', layout=Layout(height='25px', width='50%'),…"
      ]
     },
     "metadata": {},
     "output_type": "display_data"
    }
   ],
   "source": [
    "# Borramos el dataset, ya que lo vamos a cargar con parquet\n",
    "del df_profeco"
   ]
  },
  {
   "cell_type": "markdown",
   "id": "dc5989c0",
   "metadata": {},
   "source": [
    "### Carga el parquet en Spark"
   ]
  },
  {
   "cell_type": "code",
   "execution_count": null,
   "id": "31d9aa3f",
   "metadata": {},
   "outputs": [
    {
     "data": {
      "application/vnd.jupyter.widget-view+json": {
       "model_id": "",
       "version_major": 2,
       "version_minor": 0
      },
      "text/plain": [
       "FloatProgress(value=0.0, bar_style='info', description='Progress:', layout=Layout(height='25px', width='50%'),…"
      ]
     },
     "metadata": {},
     "output_type": "display_data"
    }
   ],
   "source": [
    "# Cargamos el parquet. \n",
    "df_parquet = spark.read.parquet(\"s3://itam-analytics-grb/profeco/parquet/\")\n"
   ]
  },
  {
   "cell_type": "markdown",
   "id": "8e068f76",
   "metadata": {},
   "source": [
    "## PREGUNTAS DE TODOS LOS CATÁLOGOS: \n",
    "### Contesta las siguientes preguntas utilizando PySpark. Realiza el siguiente análisis (por año) y sobre todos los catálogos."
   ]
  },
  {
   "cell_type": "markdown",
   "id": "3f4c4aa3",
   "metadata": {},
   "source": [
    "### 1. ¿Cuántos catálogos diferentes tenemos?"
   ]
  },
  {
   "cell_type": "code",
   "execution_count": null,
   "id": "5db3ce3c",
   "metadata": {},
   "outputs": [
    {
     "data": {
      "application/vnd.jupyter.widget-view+json": {
       "model_id": "",
       "version_major": 2,
       "version_minor": 0
      },
      "text/plain": [
       "FloatProgress(value=0.0, bar_style='info', description='Progress:', layout=Layout(height='25px', width='50%'),…"
      ]
     },
     "metadata": {},
     "output_type": "display_data"
    },
    {
     "name": "stdout",
     "output_type": "stream",
     "text": [
      "El numero de catalogos por anio puede observarse en la siguiente tabla:\n",
      "+----+-----------+\n",
      "|anio|conteo_anio|\n",
      "+----+-----------+\n",
      "|2018|         10|\n",
      "|2019|         11|\n",
      "|2020|         10|\n",
      "|2021|         10|\n",
      "|2022|         12|\n",
      "|2023|         11|\n",
      "|2024|         10|\n",
      "+----+-----------+"
     ]
    }
   ],
   "source": [
    "# 1. ¿Cuántos catálogos diferentes tenemos?\n",
    "\n",
    "conteo_anio_cat = df_parquet.groupBy('anio', 'catalogo').count().orderBy('anio')\n",
    "\n",
    "# Creamos un dataset que contiene el conteo por año (Esto nos permitirá realizar un conteo de catalogos por año)\n",
    "catalogos_por_anio = conteo_anio_cat.select(\"anio\", \"catalogo\") \\\n",
    "    .groupBy(\"anio\") \\\n",
    "    .agg(count_(\"catalogo\").alias(\"conteo_anio\"))\n",
    "\n",
    "# Hacemos un join\n",
    "conteo_anio_cat = conteo_anio_cat \\\n",
    "    .join(catalogos_por_anio, on=\"anio\", how=\"left\") \\\n",
    "    .orderBy('anio') \\\n",
    "    .withColumnRenamed('count', 'cont_anio_catalogo')\n",
    "\n",
    "# Guardamos la salida (Vamos a usarlo más adelante)\n",
    "conteo_anio_cat.coalesce(1).write \\\n",
    "    .mode(\"overwrite\") \\\n",
    "    .option(\"header\", True) \\\n",
    "    .csv(\"s3://itam-analytics-grb/profeco/salidas/p1/\")\n",
    "\n",
    "\n",
    "# Imprimimos el output\n",
    "conteo_anio = conteo_anio_cat \\\n",
    "    .select('anio', 'conteo_anio') \\\n",
    "    .distinct() \\\n",
    "    .orderBy('anio')\n",
    "\n",
    "\n",
    "print(\"El numero de catalogos por anio puede observarse en la siguiente tabla:\")\n",
    "conteo_anio.show()"
   ]
  },
  {
   "cell_type": "markdown",
   "id": "38cc992d",
   "metadata": {},
   "source": [
    "### 2. ¿Cuáles son las 20 categorías por catálogo con más observaciones?"
   ]
  },
  {
   "cell_type": "code",
   "execution_count": null,
   "id": "f827eedc",
   "metadata": {},
   "outputs": [
    {
     "data": {
      "application/vnd.jupyter.widget-view+json": {
       "model_id": "",
       "version_major": 2,
       "version_minor": 0
      },
      "text/plain": [
       "FloatProgress(value=0.0, bar_style='info', description='Progress:', layout=Layout(height='25px', width='50%'),…"
      ]
     },
     "metadata": {},
     "output_type": "display_data"
    },
    {
     "name": "stdout",
     "output_type": "stream",
     "text": [
      "+----+------------------+--------------------+------------------+-------------------+---------------+\n",
      "|anio|          catalogo|           categoria|cont_anio_catalogo|cont_anio_categoria|orden_categoria|\n",
      "+----+------------------+--------------------+------------------+-------------------+---------------+\n",
      "|2018|           basicos|arts. para el cui...|           8804761|            1159575|              1|\n",
      "|2018|           basicos|detergentes y pro...|           8804761|             669682|              2|\n",
      "|2018|           basicos|  derivados de leche|           8804761|             668873|              3|\n",
      "|2018|           basicos| refrescos envasados|           8804761|             636955|              4|\n",
      "|2018|           basicos|carnes frias seca...|           8804761|             593642|              5|\n",
      "|2018|           basicos|         condimentos|           8804761|             526847|              6|\n",
      "|2018|           basicos|frutas y legumbre...|           8804761|             479205|              7|\n",
      "|2018|           basicos|chocolates y golo...|           8804761|             460749|              8|\n",
      "|2018|           basicos|     leche procesada|           8804761|             446420|              9|\n",
      "|2018|           basicos|arts. de papel p/...|           8804761|             438240|             10|\n",
      "|2018|           basicos|galletas pastas y...|           8804761|             373570|             11|\n",
      "|2018|           basicos|                 pan|           8804761|             270376|             12|\n",
      "|2018|           basicos|arroz y cereales ...|           8804761|             262406|             13|\n",
      "|2018|           basicos|aceites y grasas ...|           8804761|             238291|             14|\n",
      "|2018|           basicos|                cafe|           8804761|             165939|             15|\n",
      "|2018|           basicos|tortillas y deriv...|           8804761|             152767|             16|\n",
      "|2018|           basicos|     legumbres secas|           8804761|             144722|             17|\n",
      "|2018|           basicos|             cerveza|           8804761|             142318|             18|\n",
      "|2018|           basicos|pescados y marisc...|           8804761|             140153|             19|\n",
      "|2018|           basicos|carne y visceras ...|           8804761|             138173|             20|\n",
      "|2018| electrodomesticos| aparatos electricos|           1735336|            1054932|              1|\n",
      "|2018| electrodomesticos|aparatos electron...|           1735336|             616216|              2|\n",
      "|2018| electrodomesticos|utensilios domest...|           1735336|              32336|              3|\n",
      "|2018| electrodomesticos|arts. de esparcim...|           1735336|              31852|              4|\n",
      "|2018|frutas y legumbres|  hortalizas frescas|            938616|             500398|              1|\n",
      "+----+------------------+--------------------+------------------+-------------------+---------------+\n",
      "only showing top 25 rows"
     ]
    }
   ],
   "source": [
    "# 2. ¿Cuáles son las 20 categorías por catálogo con más observaciones?\n",
    "# Guarda la salida de este query en tu bucket de S3, lo necesitaremos más adelante.\"\n",
    "\n",
    "# Generamos dataframe con conteo por categoria\n",
    "conteo_categoria_anio = df_parquet.groupBy('anio', 'catalogo', 'categoria') \\\n",
    "    .count() \\\n",
    "    .withColumnRenamed('count', 'cont_anio_categoria')\n",
    "\n",
    "# Unimos con dataframe \n",
    "conteo_categoria_anio = conteo_categoria_anio \\\n",
    "    .join(conteo_anio_cat, on=['anio', 'catalogo'], how = 'left') \\\n",
    "    .select('anio', 'catalogo', 'categoria', 'cont_anio_catalogo', 'cont_anio_categoria') \\\n",
    "    .orderBy('anio', 'catalogo', 'cont_anio_categoria')\n",
    "\n",
    "# Guardamos dataframe completo\n",
    "conteo_categoria_anio.coalesce(1).write \\\n",
    "    .mode(\"overwrite\") \\\n",
    "    .option(\"header\", True) \\\n",
    "    .csv(\"s3://itam-analytics-grb/profeco/salidas/p2/completo\")\n",
    "\n",
    "# Creamoslas dataframe con 20 categórias solamente\n",
    "\n",
    "# Creamos ventana para realizar un orden de mayor a menor en cont_anio_categoria \n",
    "ventana = Window.partitionBy(\"anio\", \"catalogo\").orderBy(desc(\"cont_anio_categoria\"))\n",
    "\n",
    "# Aplicamos ventana, nos quedamos con el top20 de categorías por catalogo y anio\n",
    "conteo_top_20 = conteo_categoria_anio \\\n",
    "    .withColumn('orden_categoria', row_number().over(ventana)) \\\n",
    "    .filter(col('orden_categoria') <= 20) \\\n",
    "    .orderBy('anio','catalogo', 'orden_categoria')\n",
    "\n",
    "# Guardamos dataframe con el top 20\n",
    "conteo_categoria_anio.coalesce(1).write \\\n",
    "    .mode(\"overwrite\") \\\n",
    "    .option(\"header\", True) \\\n",
    "    .csv(\"s3://itam-analytics-grb/profeco/salidas/p2/top_20\") \n",
    "\n",
    "conteo_top_20.show(25)"
   ]
  },
  {
   "cell_type": "markdown",
   "id": "8950d103",
   "metadata": {},
   "source": [
    "### 3. ¿Tenemos datos de todos los estados del país? De no ser así, ¿cuáles faltan?"
   ]
  },
  {
   "cell_type": "code",
   "execution_count": null,
   "id": "af5bb24b",
   "metadata": {},
   "outputs": [
    {
     "data": {
      "application/vnd.jupyter.widget-view+json": {
       "model_id": "",
       "version_major": 2,
       "version_minor": 0
      },
      "text/plain": [
       "FloatProgress(value=0.0, bar_style='info', description='Progress:', layout=Layout(height='25px', width='50%'),…"
      ]
     },
     "metadata": {},
     "output_type": "display_data"
    },
    {
     "name": "stdout",
     "output_type": "stream",
     "text": [
      "Existen 32 entidades federativas y existe informacion de 7 anios (2018-2024). En la siguiente tabla se muestra el numero de anios en los que existe informacion de cada entidad federativa.\n",
      "En ella se observa que falta informacion de Colima y Nayarit en cuatro anios.\n",
      "+--------------------+-------------+--------+\n",
      "|              estado|num_anios_est| estatus|\n",
      "+--------------------+-------------+--------+\n",
      "|      aguascalientes|            7|completo|\n",
      "|     baja california|            7|completo|\n",
      "| baja california sur|            7|completo|\n",
      "|            campeche|            7|completo|\n",
      "|             chiapas|            7|completo|\n",
      "|           chihuahua|            7|completo|\n",
      "|    ciudad de méxico|            7|completo|\n",
      "|coahuila de zaragoza|            7|completo|\n",
      "|              colima|            3|faltante|\n",
      "|             durango|            7|completo|\n",
      "|    estado de méxico|            7|completo|\n",
      "|          guanajuato|            7|completo|\n",
      "|            guerrero|            7|completo|\n",
      "|             hidalgo|            7|completo|\n",
      "|             jalisco|            7|completo|\n",
      "| michoacán de ocampo|            7|completo|\n",
      "|             morelos|            7|completo|\n",
      "|             nayarit|            3|faltante|\n",
      "|          nuevo león|            7|completo|\n",
      "|              oaxaca|            7|completo|\n",
      "|              puebla|            7|completo|\n",
      "|           querétaro|            7|completo|\n",
      "|        quintana roo|            7|completo|\n",
      "|     san luis potosí|            7|completo|\n",
      "|             sinaloa|            7|completo|\n",
      "|              sonora|            7|completo|\n",
      "|             tabasco|            7|completo|\n",
      "|          tamaulipas|            7|completo|\n",
      "|            tlaxcala|            7|completo|\n",
      "|            veracruz|            7|completo|\n",
      "|             yucatán|            7|completo|\n",
      "|           zacatecas|            7|completo|\n",
      "+--------------------+-------------+--------+"
     ]
    }
   ],
   "source": [
    "# 3. ¿Tenemos datos de todos los estados del país? De no ser así, ¿cuáles faltan?\n",
    "# No existe Distrito Federal, ya se llama Ciudad de México en todas las bases. Hay 32 valores distintos de estado\n",
    "\n",
    "# Creamos un dataframe con el conteo de observaciones por estado y anio. \n",
    "obs_estado = df_parquet \\\n",
    "    .groupBy('estado', 'anio') \\\n",
    "    .count() \\\n",
    "    .orderBy('estado', 'anio') \\\n",
    "    .withColumnRenamed('count','cont_est_anio')\n",
    "\n",
    "# Contamos en cuantos años aparece un estado\n",
    "obs_anios_est = obs_estado \\\n",
    "    .select('estado', 'anio') \\\n",
    "    .distinct() \\\n",
    "    .groupBy('estado') \\\n",
    "    .agg(countDistinct('anio').alias('num_anios_est')) \\\n",
    "    .orderBy('estado') \n",
    "\n",
    "# Agregamos columna que diga \"completo\" o \"faltante\" dependiendo de si hay observaciones en los 7 años o no.\n",
    "obs_anios_est = obs_anios_est.withColumn('estatus', \n",
    "                                        when(col('num_anios_est')==7, 'completo').otherwise('faltante')\n",
    "                                        )\n",
    "\n",
    "# Guardamos dataframes\n",
    "obs_estado.coalesce(1).write \\\n",
    "    .mode(\"overwrite\") \\\n",
    "    .option(\"header\", True) \\\n",
    "    .csv(\"s3://itam-analytics-grb/profeco/salidas/p3/obs_estado\") \n",
    "\n",
    "obs_anios_est.coalesce(1).write \\\n",
    "    .mode(\"overwrite\") \\\n",
    "    .option(\"header\", True) \\\n",
    "    .csv(\"s3://itam-analytics-grb/profeco/salidas/p3/obs_anios_est\") \n",
    "\n",
    "print(\"Existen 32 entidades federativas y existe informacion de 7 anios (2018-2024). En la siguiente tabla se muestra el numero de anios en los que existe informacion de cada entidad federativa.\\nEn ella se observa que falta informacion de Colima y Nayarit en cuatro anios.\")\n",
    "obs_anios_est.show(35)"
   ]
  },
  {
   "cell_type": "code",
   "execution_count": null,
   "id": "45a9d450",
   "metadata": {},
   "outputs": [
    {
     "data": {
      "application/vnd.jupyter.widget-view+json": {
       "model_id": "",
       "version_major": 2,
       "version_minor": 0
      },
      "text/plain": [
       "FloatProgress(value=0.0, bar_style='info', description='Progress:', layout=Layout(height='25px', width='50%'),…"
      ]
     },
     "metadata": {},
     "output_type": "display_data"
    },
    {
     "name": "stdout",
     "output_type": "stream",
     "text": [
      "+-------------------+----+-------------+\n",
      "|             estado|anio|cont_est_anio|\n",
      "+-------------------+----+-------------+\n",
      "|     aguascalientes|2018|       235847|\n",
      "|     aguascalientes|2019|       289973|\n",
      "|     aguascalientes|2020|       216598|\n",
      "|     aguascalientes|2021|       240772|\n",
      "|     aguascalientes|2022|       291820|\n",
      "|     aguascalientes|2023|       313809|\n",
      "|     aguascalientes|2024|        79726|\n",
      "|    baja california|2018|       619093|\n",
      "|    baja california|2019|       165344|\n",
      "|    baja california|2020|       195002|\n",
      "|    baja california|2021|       104216|\n",
      "|    baja california|2022|       160203|\n",
      "|    baja california|2023|       209715|\n",
      "|    baja california|2024|        60414|\n",
      "|baja california sur|2018|       163771|\n",
      "|baja california sur|2019|       135558|\n",
      "|baja california sur|2020|       244874|\n",
      "|baja california sur|2021|       283821|\n",
      "|baja california sur|2022|       282548|\n",
      "|baja california sur|2023|       291569|\n",
      "+-------------------+----+-------------+\n",
      "only showing top 20 rows"
     ]
    }
   ],
   "source": [
    "# 4. ¿Cuántas observaciones tenemos por estado?\n",
    "# Ya tenemos este dataframe.\n",
    "\n",
    "\n",
    "# Guardamos de nuevo por sanidad mental\n",
    "obs_estado.coalesce(1).write \\\n",
    "    .mode(\"overwrite\") \\\n",
    "    .option(\"header\", True) \\\n",
    "    .csv(\"s3://itam-analytics-grb/profeco/salidas/p4/obs_estado\")\n",
    "\n",
    "# Generamos dataframe por estado con suma de cont_est_anio\n",
    "obs_estado_tota = obs_estado \\\n",
    "    .select('estado','cont_est_anio') \\\n",
    "    .groupBy('estado') \\\n",
    "    .agg(sum_('cont_est_anio').alias('total_estado'))\n"
   ]
  },
  {
   "cell_type": "code",
   "execution_count": null,
   "id": "a0b12017",
   "metadata": {},
   "outputs": [
    {
     "data": {
      "application/vnd.jupyter.widget-view+json": {
       "model_id": "",
       "version_major": 2,
       "version_minor": 0
      },
      "text/plain": [
       "FloatProgress(value=0.0, bar_style='info', description='Progress:', layout=Layout(height='25px', width='50%'),…"
      ]
     },
     "metadata": {},
     "output_type": "display_data"
    },
    {
     "name": "stdout",
     "output_type": "stream",
     "text": [
      "+----+-------------------+--------------+-------------+\n",
      "|anio|             estado|num_categorias|num_catalogos|\n",
      "+----+-------------------+--------------+-------------+\n",
      "|2018|     aguascalientes|            41|            9|\n",
      "|2019|     aguascalientes|            41|           11|\n",
      "|2020|     aguascalientes|            41|            9|\n",
      "|2021|     aguascalientes|            41|           10|\n",
      "|2022|     aguascalientes|            41|           12|\n",
      "|2023|     aguascalientes|            41|           11|\n",
      "|2024|     aguascalientes|            42|            9|\n",
      "|2018|    baja california|            41|           10|\n",
      "|2019|    baja california|            41|           10|\n",
      "|2020|    baja california|            41|            9|\n",
      "|2021|    baja california|            41|            9|\n",
      "|2022|    baja california|            41|           11|\n",
      "|2023|    baja california|            41|           11|\n",
      "|2024|    baja california|            42|           10|\n",
      "|2018|baja california sur|            41|            9|\n",
      "|2019|baja california sur|            41|           10|\n",
      "|2020|baja california sur|            40|            9|\n",
      "|2021|baja california sur|            40|           10|\n",
      "|2022|baja california sur|            41|           11|\n",
      "|2023|baja california sur|            41|           11|\n",
      "+----+-------------------+--------------+-------------+\n",
      "only showing top 20 rows"
     ]
    }
   ],
   "source": [
    "# 5. De cada estado obten: el número de catalogos diferentes por año, ¿ha aumentado el número de catálogos con el tiempo? \n",
    "# Vamos a contar también el número de categorias, para reralizar un análisis más extenso\n",
    "\n",
    "# Primero creamos dataframe de numero de catalogos por estado y anio\n",
    "num_catalogo_estado = df_parquet \\\n",
    "    .select('anio', 'estado', 'catalogo') \\\n",
    "    .groupBy('anio', 'estado') \\\n",
    "    .agg(countDistinct('catalogo').alias('num_catalogos')) \\\n",
    "    .orderBy('estado', 'anio')\n",
    "\n",
    "# Después creamos dataframe de número de categorias por estado y anio\n",
    "num_categoria_estado = df_parquet \\\n",
    "    .select('anio', 'estado', 'categoria') \\\n",
    "    .groupBy('anio', 'estado') \\\n",
    "    .agg(countDistinct('categoria').alias('num_categorias')) \\\n",
    "    .orderBy('estado', 'anio')\n",
    "\n",
    "# Realizamos join\n",
    "df_completo =  num_categoria_estado \\\n",
    "    .join(num_catalogo_estado, on=['anio', 'estado'], how='inner') \\\n",
    "    .orderBy('estado', 'anio')\n",
    "\n",
    "# Guardamos el dataframe\n",
    "df_completo.coalesce(1).write \\\n",
    "    .mode(\"overwrite\") \\\n",
    "    .option(\"header\", True) \\\n",
    "    .csv(\"s3://itam-analytics-grb/profeco/salidas/p5/metricas_estado\") \n",
    "\n",
    "df_completo.show()"
   ]
  },
  {
   "cell_type": "markdown",
   "id": "17797147",
   "metadata": {},
   "source": [
    "## PREGUNTAS CON DATAFRAME DE MEDICAMENTOS\n",
    "### Utilizando Spark contesta las siguientes preguntas a partir del catálogo que le tocó a tu equipo. Recuerda trabajar en el archivo con los datos particionados de otra manera tus queries van a tardar mucho."
   ]
  },
  {
   "cell_type": "markdown",
   "id": "07b1b3b6",
   "metadata": {},
   "source": [
    "El catálogo asignado a nuestro equipo es \"Medicamentos\". Este catálogo muestra un bajo número de valores distintos en el campo 'marca' debido a que más del 90% de las observaciones tiene como valor 's/m', que es probable que correspondan a medicamentos genéricos. Debido a lo anterior, en su lugar las preguntas planteadas originalmente se harán en función del campo producto.\n",
    "\n",
    "La tabla de abajo muestra nuestra justificación."
   ]
  },
  {
   "cell_type": "code",
   "execution_count": null,
   "id": "1cfaf586",
   "metadata": {},
   "outputs": [
    {
     "data": {
      "application/vnd.jupyter.widget-view+json": {
       "model_id": "",
       "version_major": 2,
       "version_minor": 0
      },
      "text/plain": [
       "FloatProgress(value=0.0, bar_style='info', description='Progress:', layout=Layout(height='25px', width='50%'),…"
      ]
     },
     "metadata": {},
     "output_type": "display_data"
    }
   ],
   "source": [
    "df_parquet_meds = spark.read.parquet('s3://itam-analytics-grb/profeco/parquet/catalogo=medicamentos/')"
   ]
  },
  {
   "cell_type": "code",
   "execution_count": null,
   "id": "23c841cf",
   "metadata": {},
   "outputs": [
    {
     "data": {
      "application/vnd.jupyter.widget-view+json": {
       "model_id": "",
       "version_major": 2,
       "version_minor": 0
      },
      "text/plain": [
       "FloatProgress(value=0.0, bar_style='info', description='Progress:', layout=Layout(height='25px', width='50%'),…"
      ]
     },
     "metadata": {},
     "output_type": "display_data"
    },
    {
     "name": "stdout",
     "output_type": "stream",
     "text": [
      "+--------------------+--------+----------+\n",
      "|               marca|   count|porcentaje|\n",
      "+--------------------+--------+----------+\n",
      "|               dalux|   68765|      0.36|\n",
      "|inhala care  ó ho...|   21623|      0.11|\n",
      "|           sin marca|  236323|      1.23|\n",
      "|               hands|    2529|      0.01|\n",
      "|                zuum|  105307|      0.55|\n",
      "|          zuum. klin|   18959|       0.1|\n",
      "|               aurax|      72|       0.0|\n",
      "|            farmacom|   11732|      0.06|\n",
      "|             curitas|   29303|      0.15|\n",
      "|            vitascom|   30272|      0.16|\n",
      "|     cualquier marca|  189570|      0.99|\n",
      "|         quality day|   39406|      0.21|\n",
      "|           supra med|    9055|      0.05|\n",
      "|              jumper|     256|       0.0|\n",
      "|              conair|   11117|      0.06|\n",
      "|         safety mask|       1|       0.0|\n",
      "|            dr. simi|      36|       0.0|\n",
      "|              fregón|      35|       0.0|\n",
      "|        alfa medical|    8062|      0.04|\n",
      "|             soriana|   26029|      0.14|\n",
      "|              xignal|    7114|      0.04|\n",
      "|escudo antibacterial|   30972|      0.16|\n",
      "|             benesta|    2611|      0.01|\n",
      "|                 s/m|17828485|     92.81|\n",
      "|           home care|    1893|      0.01|\n",
      "|        bumy medical|    8293|      0.04|\n",
      "| 3m nexcare. coldhot|    1596|      0.01|\n",
      "|            curapack|     630|       0.0|\n",
      "|           microlife|   18236|      0.09|\n",
      "|             citizen|   14234|      0.07|\n",
      "|         3m. nexcare|   15332|      0.08|\n",
      "|home care diagnostic|    5687|      0.03|\n",
      "|               omron|   80771|      0.42|\n",
      "|          choisemmed|    7085|      0.04|\n",
      "|              ensure|   49223|      0.26|\n",
      "|             duo max|      80|       0.0|\n",
      "|            medimart|   70538|      0.37|\n",
      "|             nebucor|   31920|      0.17|\n",
      "|              le roy|  164699|      0.86|\n",
      "|              protec|   62063|      0.32|\n",
      "+--------------------+--------+----------+"
     ]
    }
   ],
   "source": [
    "df_justificacion = df_parquet_meds \\\n",
    "    .groupBy('marca') \\\n",
    "    .count()\n",
    "\n",
    "num_obs= df_parquet_meds \\\n",
    "    .select('marca') \\\n",
    "    .count()\n",
    "\n",
    "df_justificacion = df_justificacion.withColumn(\n",
    "    \"porcentaje\", round(col(\"count\") / lit(num_obs) * 100, 2)\n",
    ")\n",
    "\n",
    "df_justificacion.show(40)\n"
   ]
  },
  {
   "cell_type": "markdown",
   "id": "a99a8a6d",
   "metadata": {},
   "source": [
    "### 1. ¿Cuántos productos diferentes tiene tu categoria?"
   ]
  },
  {
   "cell_type": "code",
   "execution_count": null,
   "id": "747996c8",
   "metadata": {},
   "outputs": [
    {
     "data": {
      "application/vnd.jupyter.widget-view+json": {
       "model_id": "",
       "version_major": 2,
       "version_minor": 0
      },
      "text/plain": [
       "FloatProgress(value=0.0, bar_style='info', description='Progress:', layout=Layout(height='25px', width='50%'),…"
      ]
     },
     "metadata": {},
     "output_type": "display_data"
    },
    {
     "name": "stdout",
     "output_type": "stream",
     "text": [
      "En el dataset de medicamentos existen 382 productos distintos, sin distincion de anio.\n",
      "\n",
      "Por anio, la evolucion de productos distintos se muestra en la tabla de abajo.\n",
      "+----+------------+\n",
      "|anio|num_producto|\n",
      "+----+------------+\n",
      "|2018|         355|\n",
      "|2019|         356|\n",
      "|2020|         382|\n",
      "|2021|         380|\n",
      "|2022|         380|\n",
      "|2023|         380|\n",
      "|2024|         379|\n",
      "+----+------------+"
     ]
    }
   ],
   "source": [
    "# Número de productos por total\n",
    "productos_total = df_parquet_meds \\\n",
    "    .select('producto') \\\n",
    "    .distinct() \\\n",
    "    .count()\n",
    "\n",
    "print(f\"En el dataset de medicamentos existen {productos_total} productos distintos, sin distincion de anio.\")\n",
    "\n",
    "\n",
    "# Número de productos por anio\n",
    "df_marcas_anio = df_parquet_meds \\\n",
    "    .groupBy('anio') \\\n",
    "    .agg(countDistinct('producto').alias('num_producto')) \\\n",
    "    .orderBy('anio')\n",
    "\n",
    "\n",
    "print(\"\\nPor anio, la evolucion de productos distintos se muestra en la tabla de abajo.\")\n",
    "df_marcas_anio.show()"
   ]
  },
  {
   "cell_type": "markdown",
   "id": "7e8f87f6",
   "metadata": {},
   "source": [
    "### 2. ¿Cuál es el producto con mayor precio? ¿En qué estado?"
   ]
  },
  {
   "cell_type": "code",
   "execution_count": null,
   "id": "1690e52f",
   "metadata": {},
   "outputs": [
    {
     "data": {
      "application/vnd.jupyter.widget-view+json": {
       "model_id": "",
       "version_major": 2,
       "version_minor": 0
      },
      "text/plain": [
       "FloatProgress(value=0.0, bar_style='info', description='Progress:', layout=Layout(height='25px', width='50%'),…"
      ]
     },
     "metadata": {},
     "output_type": "display_data"
    },
    {
     "name": "stdout",
     "output_type": "stream",
     "text": [
      "El producto con el mayor precio es Arava, el cual tiene un precio de 5272.0\n",
      "Este producto se vendi? a ese precio en Baja California, Guerrero y Chihuahua en 2024\n",
      "+--------------------+--------+------+----+\n",
      "|              estado|producto|precio|anio|\n",
      "+--------------------+--------+------+----+\n",
      "|     baja california|   arava|5275.0|2024|\n",
      "|            guerrero|   arava|5275.0|2024|\n",
      "|           chihuahua|   arava|5275.0|2024|\n",
      "|     baja california|   arava|5275.0|2024|\n",
      "|     baja california|   arava|5275.0|2024|\n",
      "|     baja california|   arava|5275.0|2024|\n",
      "|            guerrero|   arava|5275.0|2024|\n",
      "|           chihuahua|   arava|5275.0|2024|\n",
      "|            guerrero|   arava|5275.0|2024|\n",
      "|           chihuahua|   arava|5275.0|2024|\n",
      "|           chihuahua|   arava|5275.0|2024|\n",
      "|           querétaro|   arava|5040.0|2024|\n",
      "|           chihuahua|   arava|5040.0|2024|\n",
      "|          tamaulipas|   arava|5040.0|2024|\n",
      "|      aguascalientes|   arava|5040.0|2024|\n",
      "|          nuevo león|   arava|5040.0|2024|\n",
      "|coahuila de zaragoza|   arava|5040.0|2024|\n",
      "|          nuevo león|   arava|5040.0|2024|\n",
      "|     san luis potosí|   arava|5040.0|2024|\n",
      "|     san luis potosí|   arava|5040.0|2024|\n",
      "+--------------------+--------+------+----+\n",
      "only showing top 20 rows"
     ]
    }
   ],
   "source": [
    "df_mayor_precio = df_parquet_meds \\\n",
    "    .select('estado', 'producto', 'precio', 'anio') \\\n",
    "    .orderBy(desc('precio'))\n",
    "\n",
    "print(\"El producto con el mayor precio es Arava, el cual tiene un precio de 5272.0\")\n",
    "print(\"Este producto se vendió a ese precio en Baja California, Guerrero y Chihuahua en 2024\")\n",
    "df_mayor_precio.show()"
   ]
  },
  {
   "cell_type": "markdown",
   "id": "ba0c3f2e",
   "metadata": {},
   "source": [
    "### 3. ¿Cuál es la marca con menor precio en CDMX?"
   ]
  },
  {
   "cell_type": "code",
   "execution_count": null,
   "id": "5745ebae",
   "metadata": {},
   "outputs": [
    {
     "data": {
      "application/vnd.jupyter.widget-view+json": {
       "model_id": "",
       "version_major": 2,
       "version_minor": 0
      },
      "text/plain": [
       "FloatProgress(value=0.0, bar_style='info', description='Progress:', layout=Layout(height='25px', width='50%'),…"
      ]
     },
     "metadata": {},
     "output_type": "display_data"
    }
   ],
   "source": [
    "\n",
    "# Creamoslas ventana para asignar un número a cada estado\n",
    "ventana = Window.orderBy('estado')\n",
    "\n",
    "# Cramos dataframe con una observacion por estado y un número asignado a cada estado (ciudad de méxico ews 7)\n",
    "df_ents = df_parquet_meds.select('estado').distinct() \\\n",
    "    .withColumn('ent', row_number().over(ventana))\n",
    "\n",
    "# Agregamos la columna ent (que es un número que identifica al estado) al df original\n",
    "df_parquet_meds = df_parquet_meds.join(ents, on='estado', how='left')\n"
   ]
  },
  {
   "cell_type": "code",
   "execution_count": null,
   "id": "2df2f911",
   "metadata": {},
   "outputs": [
    {
     "data": {
      "application/vnd.jupyter.widget-view+json": {
       "model_id": "",
       "version_major": 2,
       "version_minor": 0
      },
      "text/plain": [
       "FloatProgress(value=0.0, bar_style='info', description='Progress:', layout=Layout(height='25px', width='50%'),…"
      ]
     },
     "metadata": {},
     "output_type": "display_data"
    },
    {
     "name": "stdout",
     "output_type": "stream",
     "text": [
      "El articulo con menor precio en Ciudad de M?xico es 'Ampliron Duo' con un precio de 5 pesos en 2023\n",
      "+----------------+------------+------+----+\n",
      "|          estado|    producto|precio|anio|\n",
      "+----------------+------------+------+----+\n",
      "|ciudad de méxico|ampliron duo|   5.0|2023|\n",
      "+----------------+------------+------+----+\n",
      "only showing top 1 row\n",
      "\n",
      "\n",
      "Por anio podemos observar el producto con menor precio, tambien\n",
      "+----------------+--------------------+------+----+-----+\n",
      "|          estado|            producto|precio|anio|orden|\n",
      "+----------------+--------------------+------+----+-----+\n",
      "|ciudad de méxico|         paracetamol|   7.0|2018|    1|\n",
      "|ciudad de méxico|        acido folico|   7.0|2019|    1|\n",
      "|ciudad de méxico|    guantes de látex|  5.21|2020|    1|\n",
      "|ciudad de méxico|   gel antibacterial|   5.4|2021|    1|\n",
      "|ciudad de méxico|        acido folico|  7.05|2022|    1|\n",
      "|ciudad de méxico|        ampliron duo|   5.0|2023|    1|\n",
      "|ciudad de méxico|clorfenamina comp...|  10.0|2024|    1|\n",
      "+----------------+--------------------+------+----+-----+"
     ]
    }
   ],
   "source": [
    "# Ordenamos de menor a mayor\n",
    "df_menor_precio_cdmx = df_parquet_meds \\\n",
    "    .filter(col('ent') == 7) \\\n",
    "    .select('estado', 'producto', 'precio', 'anio') \\\n",
    "    .orderBy('precio')\n",
    "# Resultado\n",
    "print(\"El articulo con menor precio en Ciudad de México es 'Ampliron Duo' con un precio de 5 pesos en 2023\")\n",
    "df_menor_precio_cdmx.show(1)\n",
    "\n",
    "# Por anio\n",
    "ventana = Window.partitionBy('anio').orderBy('precio')\n",
    "\n",
    "df_menor_precio_cdmx = df_parquet_meds \\\n",
    "    .filter(col('ent') == 7) \\\n",
    "    .select('estado', 'producto', 'precio', 'anio') \\\n",
    "    .withColumn('orden', row_number().over(ventana)) \\\n",
    "    .filter(col('orden') == 1) \\\n",
    "    .orderBy('anio')\n",
    "\n",
    "print(\"\\nPor anio podemos observar el producto con menor precio, tambien\")\n",
    "df_menor_precio_cdmx.show(7)\n"
   ]
  },
  {
   "cell_type": "markdown",
   "id": "68925572",
   "metadata": {},
   "source": [
    "### 4. ¿Cuál es el producto con mayor número de observaciones?"
   ]
  },
  {
   "cell_type": "code",
   "execution_count": null,
   "id": "3c275db4",
   "metadata": {},
   "outputs": [
    {
     "data": {
      "application/vnd.jupyter.widget-view+json": {
       "model_id": "",
       "version_major": 2,
       "version_minor": 0
      },
      "text/plain": [
       "FloatProgress(value=0.0, bar_style='info', description='Progress:', layout=Layout(height='25px', width='50%'),…"
      ]
     },
     "metadata": {},
     "output_type": "display_data"
    },
    {
     "name": "stdout",
     "output_type": "stream",
     "text": [
      "Por anio el producto con mayor numero de observaciones se muestra en la siguente tabla\n",
      "\n",
      "La pandemia de Covid-19 tuvo un efecto importante en este ranking.\n",
      "+-----------------+----+-------+-----+\n",
      "|         producto|anio|num_obs|orden|\n",
      "+-----------------+----+-------+-----+\n",
      "|           cialis|2018|  33544|    1|\n",
      "|         micardis|2019|  25812|    1|\n",
      "|           tabcin|2020|  31549|    1|\n",
      "|gel antibacterial|2021|  45671|    1|\n",
      "|gel antibacterial|2022|  52479|    1|\n",
      "|gel antibacterial|2023|  55492|    1|\n",
      "|gel antibacterial|2024|  14015|    1|\n",
      "+-----------------+----+-------+-----+"
     ]
    }
   ],
   "source": [
    "df_conteo = df_parquet_meds \\\n",
    "    .groupBy('producto', 'anio') \\\n",
    "    .agg(count('*').alias('num_obs'))\n",
    "\n",
    "ventana = Window.partitionBy('anio').orderBy(col('num_obs').desc())\n",
    "\n",
    "df_mas_obs = df_conteo \\\n",
    "    .withColumn('orden', row_number().over(ventana)) \\\n",
    "    .filter(col('orden') == 1) \\\n",
    "    .orderBy('anio')\n",
    "\n",
    "\n",
    "print('Por anio el producto con mayor numero de observaciones se muestra en la siguente tabla')\n",
    "print('\\nLa pandemia de Covid-19 tuvo un efecto importante en este ranking.')\n",
    "df_mas_obs.show()"
   ]
  },
  {
   "cell_type": "markdown",
   "id": "77382087",
   "metadata": {},
   "source": [
    "### 5. ¿Cuáles son el top 5 de marcas con mayor precio en cada estado? ¿Son diferentes?"
   ]
  },
  {
   "cell_type": "code",
   "execution_count": null,
   "id": "3748df94",
   "metadata": {},
   "outputs": [
    {
     "data": {
      "application/vnd.jupyter.widget-view+json": {
       "model_id": "",
       "version_major": 2,
       "version_minor": 0
      },
      "text/plain": [
       "FloatProgress(value=0.0, bar_style='info', description='Progress:', layout=Layout(height='25px', width='50%'),…"
      ]
     },
     "metadata": {},
     "output_type": "display_data"
    },
    {
     "name": "stdout",
     "output_type": "stream",
     "text": [
      "+--------------+----+--------+------------------+-----+\n",
      "|        estado|anio|producto|       precio_prom|orden|\n",
      "+--------------+----+--------+------------------+-----+\n",
      "|aguascalientes|2018| cytotec|2789.0102689560144|    1|\n",
      "|aguascalientes|2018|   arava| 2153.623006982741|    2|\n",
      "|aguascalientes|2018|  keppra| 2071.391358928916|    3|\n",
      "|aguascalientes|2018| asenlix|1628.6417380386258|    4|\n",
      "|aguascalientes|2018| lipitor| 1523.565196600486|    5|\n",
      "|aguascalientes|2019| cytotec| 2789.412213740458|    1|\n",
      "|aguascalientes|2019|   arava|2266.4246575342468|    2|\n",
      "|aguascalientes|2019|  keppra|2140.8033777185387|    3|\n",
      "|aguascalientes|2019| lipitor| 1598.637640449438|    4|\n",
      "|aguascalientes|2019| asenlix|1582.5726116204717|    5|\n",
      "+--------------+----+--------+------------------+-----+\n",
      "only showing top 10 rows"
     ]
    }
   ],
   "source": [
    "# Calculamos el precio promedio por producto, estado y anio (para no repetir productos)\n",
    "precio_prom = df_parquet_meds.groupBy('estado', 'anio', 'producto') \\\n",
    "    .agg(avg('precio').alias('precio_prom'))\n",
    "\n",
    "# ventana\n",
    "ventana = Window.partitionBy('estado', 'anio').orderBy(col('precio_prom').desc())\n",
    "\n",
    "# Creamos dataframe de top 5 productos más caros por estado, año \n",
    "df_top5_estado_anio = precio_prom \\\n",
    "    .withColumn('orden', row_number().over(ventana)) \\\n",
    "    .filter(col('orden') <= 5) \\\n",
    "    .orderBy('estado', 'anio', 'orden')\n",
    "\n",
    "df_top5_estado_anio.show(10)"
   ]
  },
  {
   "cell_type": "code",
   "execution_count": null,
   "id": "0b21cfdc",
   "metadata": {},
   "outputs": [
    {
     "data": {
      "application/vnd.jupyter.widget-view+json": {
       "model_id": "",
       "version_major": 2,
       "version_minor": 0
      },
      "text/plain": [
       "FloatProgress(value=0.0, bar_style='info', description='Progress:', layout=Layout(height='25px', width='50%'),…"
      ]
     },
     "metadata": {},
     "output_type": "display_data"
    }
   ],
   "source": [
    "# Guardamos en un diccionario 7 dataframes pivoteados, uno por anio\n",
    "anios = [row[\"anio\"] for row in df_top5_estado_anio.select(\"anio\").distinct().collect()]\n",
    "\n",
    "pivot_anio = {}\n",
    "\n",
    "for anio in anios:\n",
    "    df_anio = df_top5_estado_anio.filter(col('anio') == anio)\n",
    "    \n",
    "    pivot_df = df_anio.groupBy('estado') \\\n",
    "        .pivot('orden', [1, 2, 3, 4, 5]) \\\n",
    "        .agg(first('producto'))\n",
    "    \n",
    "    pivot_anio[anio] = pivot_df"
   ]
  },
  {
   "cell_type": "markdown",
   "id": "1733b489",
   "metadata": {},
   "source": [
    "#### 2018\n",
    " \n"
   ]
  },
  {
   "cell_type": "code",
   "execution_count": null,
   "id": "b4452b1b",
   "metadata": {},
   "outputs": [
    {
     "data": {
      "application/vnd.jupyter.widget-view+json": {
       "model_id": "",
       "version_major": 2,
       "version_minor": 0
      },
      "text/plain": [
       "FloatProgress(value=0.0, bar_style='info', description='Progress:', layout=Layout(height='25px', width='50%'),…"
      ]
     },
     "metadata": {},
     "output_type": "display_data"
    },
    {
     "name": "stdout",
     "output_type": "stream",
     "text": [
      "+--------------------+-------+------+------+-------+-------+\n",
      "|              estado|      1|     2|     3|      4|      5|\n",
      "+--------------------+-------+------+------+-------+-------+\n",
      "|      aguascalientes|cytotec| arava|keppra|asenlix|lipitor|\n",
      "|     baja california|cytotec| arava|keppra|asenlix|lipitor|\n",
      "| baja california sur|cytotec| arava|keppra|asenlix|lipitor|\n",
      "|            campeche|cytotec| arava|keppra|asenlix|lipitor|\n",
      "|             chiapas|cytotec| arava|keppra|asenlix|lipitor|\n",
      "|           chihuahua|cytotec| arava|keppra|asenlix|lipitor|\n",
      "|    ciudad de méxico|cytotec| arava|keppra|asenlix|lipitor|\n",
      "|coahuila de zaragoza|cytotec| arava|keppra|asenlix|lipitor|\n",
      "|              colima|cytotec| arava|keppra|asenlix|lipitor|\n",
      "|             durango|cytotec| arava|keppra|asenlix|bonviva|\n",
      "|    estado de méxico|cytotec| arava|keppra|asenlix|lipitor|\n",
      "|          guanajuato|cytotec| arava|keppra|asenlix|lipitor|\n",
      "|            guerrero|cytotec|keppra| arava|asenlix|lipitor|\n",
      "|             hidalgo|cytotec| arava|keppra|asenlix|lipitor|\n",
      "|             jalisco|cytotec| arava|keppra|asenlix|lipitor|\n",
      "| michoacán de ocampo|cytotec| arava|keppra|asenlix|bonviva|\n",
      "|             morelos|cytotec| arava|keppra|asenlix|lipitor|\n",
      "|             nayarit|cytotec| arava|keppra|asenlix|lipitor|\n",
      "|          nuevo león|cytotec| arava|keppra|asenlix|lipitor|\n",
      "|              oaxaca|cytotec| arava|keppra|asenlix|lipitor|\n",
      "|              puebla|cytotec| arava|keppra|asenlix|lipitor|\n",
      "|           querétaro|cytotec| arava|keppra|asenlix|lipitor|\n",
      "|        quintana roo|cytotec| arava|keppra|asenlix|lipitor|\n",
      "|     san luis potosí|cytotec| arava|keppra|asenlix|lipitor|\n",
      "|             sinaloa|cytotec| arava|keppra|asenlix|lipitor|\n",
      "|              sonora|cytotec| arava|keppra|asenlix|lipitor|\n",
      "|             tabasco|cytotec| arava|keppra|asenlix|lipitor|\n",
      "|          tamaulipas|cytotec| arava|keppra|asenlix|lipitor|\n",
      "|            tlaxcala|cytotec| arava|keppra|asenlix|lipitor|\n",
      "|            veracruz|cytotec| arava|keppra|asenlix|lipitor|\n",
      "|             yucatán|cytotec| arava|keppra|asenlix|lipitor|\n",
      "|           zacatecas|cytotec| arava|keppra|asenlix|lipitor|\n",
      "+--------------------+-------+------+------+-------+-------+"
     ]
    }
   ],
   "source": [
    "pivot_anio[2018].show(32)"
   ]
  },
  {
   "cell_type": "markdown",
   "id": "53d3e45f",
   "metadata": {},
   "source": [
    "#### 2019"
   ]
  },
  {
   "cell_type": "code",
   "execution_count": null,
   "id": "3a94fc39",
   "metadata": {},
   "outputs": [
    {
     "data": {
      "application/vnd.jupyter.widget-view+json": {
       "model_id": "",
       "version_major": 2,
       "version_minor": 0
      },
      "text/plain": [
       "FloatProgress(value=0.0, bar_style='info', description='Progress:', layout=Layout(height='25px', width='50%'),…"
      ]
     },
     "metadata": {},
     "output_type": "display_data"
    },
    {
     "name": "stdout",
     "output_type": "stream",
     "text": [
      "+--------------------+-------+-----+------+-------+-------+\n",
      "|              estado|      1|    2|     3|      4|      5|\n",
      "+--------------------+-------+-----+------+-------+-------+\n",
      "|      aguascalientes|cytotec|arava|keppra|lipitor|asenlix|\n",
      "|     baja california|cytotec|arava|keppra|asenlix|lipitor|\n",
      "| baja california sur|cytotec|arava|keppra|asenlix|lipitor|\n",
      "|            campeche|cytotec|arava|keppra|asenlix|lipitor|\n",
      "|             chiapas|cytotec|arava|keppra|lipitor| evista|\n",
      "|           chihuahua|cytotec|arava|keppra|asenlix|lipitor|\n",
      "|    ciudad de méxico|cytotec|arava|keppra|asenlix|lipitor|\n",
      "|coahuila de zaragoza|cytotec|arava|keppra|asenlix|lipitor|\n",
      "|              colima|cytotec|arava|keppra|lipitor|asenlix|\n",
      "|             durango|cytotec|arava|keppra|asenlix|lipitor|\n",
      "|    estado de méxico|cytotec|arava|keppra|asenlix|lipitor|\n",
      "|          guanajuato|cytotec|arava|keppra|lipitor|asenlix|\n",
      "|            guerrero|cytotec|arava|keppra|asenlix|lipitor|\n",
      "|             hidalgo|cytotec|arava|keppra|lipitor| evista|\n",
      "|             jalisco|cytotec|arava|keppra|asenlix|lipitor|\n",
      "| michoacán de ocampo|cytotec|arava|keppra|asenlix|lipitor|\n",
      "|             morelos|cytotec|arava|keppra|asenlix|lipitor|\n",
      "|             nayarit|cytotec|arava|keppra|asenlix|bonviva|\n",
      "|          nuevo león|cytotec|arava|keppra|asenlix|lipitor|\n",
      "|              oaxaca|cytotec|arava|keppra|asenlix|lipitor|\n",
      "|              puebla|cytotec|arava|keppra|lipitor|asenlix|\n",
      "|           querétaro|cytotec|arava|keppra|lipitor|asenlix|\n",
      "|        quintana roo|cytotec|arava|keppra|asenlix|lipitor|\n",
      "|     san luis potosí|cytotec|arava|keppra|lipitor|asenlix|\n",
      "|             sinaloa|cytotec|arava|keppra|asenlix|lipitor|\n",
      "|              sonora|cytotec|arava|keppra|asenlix|lipitor|\n",
      "|             tabasco|cytotec|arava|keppra|asenlix|lipitor|\n",
      "|          tamaulipas|cytotec|arava|keppra|asenlix|lipitor|\n",
      "|            tlaxcala|cytotec|arava|keppra|lipitor|bonviva|\n",
      "|            veracruz|cytotec|arava|keppra|asenlix|lipitor|\n",
      "|             yucatán|cytotec|arava|keppra|lipitor|asenlix|\n",
      "|           zacatecas|cytotec|arava|keppra|asenlix|lipitor|\n",
      "+--------------------+-------+-----+------+-------+-------+"
     ]
    }
   ],
   "source": [
    "pivot_anio[2019].show(32)"
   ]
  },
  {
   "cell_type": "markdown",
   "id": "d5e6e641",
   "metadata": {},
   "source": [
    "#### 2020"
   ]
  },
  {
   "cell_type": "code",
   "execution_count": null,
   "id": "77bddd58",
   "metadata": {},
   "outputs": [
    {
     "data": {
      "application/vnd.jupyter.widget-view+json": {
       "model_id": "",
       "version_major": 2,
       "version_minor": 0
      },
      "text/plain": [
       "FloatProgress(value=0.0, bar_style='info', description='Progress:', layout=Layout(height='25px', width='50%'),…"
      ]
     },
     "metadata": {},
     "output_type": "display_data"
    },
    {
     "name": "stdout",
     "output_type": "stream",
     "text": [
      "+--------------------+-----------+-----------+-----------+------------+---------------+\n",
      "|              estado|          1|          2|          3|           4|              5|\n",
      "+--------------------+-----------+-----------+-----------+------------+---------------+\n",
      "|      aguascalientes|    cytotec|      arava|     keppra|fosamax plus|        lipitor|\n",
      "|     baja california|    cytotec|      arava|     keppra|     asenlix|        lipitor|\n",
      "| baja california sur|    cytotec|      arava|     keppra|     asenlix|        lipitor|\n",
      "|            campeche|    cytotec|      arava|     keppra|     lipitor|        asenlix|\n",
      "|             chiapas|    cytotec|      arava|     keppra|     lipitor|   fosamax plus|\n",
      "|           chihuahua|nebulizador| termómetro|aderogyl 15| antiflu-des|antiflu-des jr.|\n",
      "|    ciudad de méxico|    cytotec|      arava|     keppra|     lipitor|   fosamax plus|\n",
      "|coahuila de zaragoza|    cytotec|      arava|     keppra|     lexapro|        lipitor|\n",
      "|              colima|      arava|    cytotec|     keppra|fosamax plus|         evista|\n",
      "|             durango|    cytotec|      arava|     keppra|     asenlix|        lipitor|\n",
      "|    estado de méxico|    cytotec|      arava|     keppra|     lipitor|   fosamax plus|\n",
      "|          guanajuato|    cytotec|      arava|     keppra|     lipitor|   fosamax plus|\n",
      "|            guerrero|    cytotec|      arava|     keppra|     lipitor|        asenlix|\n",
      "|             hidalgo|    cytotec|      arava|     keppra|fosamax plus|        lipitor|\n",
      "|             jalisco|    cytotec|      arava|     keppra|     lipitor|   fosamax plus|\n",
      "| michoacán de ocampo|    cytotec|      arava|     keppra|     asenlix|        lipitor|\n",
      "|             morelos|nebulizador|     tempra|    xl-3 vr|  termómetro|       sensibit|\n",
      "|             nayarit|nebulizador|aderogyl 15|antiflu-des|  termómetro|         tempra|\n",
      "|          nuevo león|    cytotec|      arava|     keppra|     lipitor|        asenlix|\n",
      "|              oaxaca|    cytotec|      arava|     keppra|     asenlix|        lipitor|\n",
      "|              puebla|    cytotec|      arava|     keppra|     lipitor|        asenlix|\n",
      "|           querétaro|    cytotec|      arava|     keppra|     lipitor|   fosamax plus|\n",
      "|        quintana roo|    cytotec|      arava|     keppra|     asenlix|        lipitor|\n",
      "|     san luis potosí|    cytotec|      arava|     keppra|     lipitor|   fosamax plus|\n",
      "|             sinaloa|    cytotec|      arava|     keppra|     lipitor|   fosamax plus|\n",
      "|              sonora|nebulizador| termómetro|     tempra|     xl-3 vr|   cafiaspirina|\n",
      "|             tabasco|    cytotec|      arava|     keppra|     asenlix|        lipitor|\n",
      "|          tamaulipas|    cytotec|      arava|     keppra|     lipitor|   fosamax plus|\n",
      "|            tlaxcala|    cytotec|      arava|     keppra|     lipitor|   fosamax plus|\n",
      "|            veracruz|    cytotec|      arava|     keppra|     asenlix|   fosamax plus|\n",
      "|             yucatán|    cytotec|      arava|     keppra|fosamax plus|        lipitor|\n",
      "|           zacatecas|    cytotec|      arava|     keppra|     lipitor|   fosamax plus|\n",
      "+--------------------+-----------+-----------+-----------+------------+---------------+"
     ]
    }
   ],
   "source": [
    "pivot_anio[2020].show(32)"
   ]
  },
  {
   "cell_type": "markdown",
   "id": "2e8dc194",
   "metadata": {},
   "source": [
    "#### 2021"
   ]
  },
  {
   "cell_type": "code",
   "execution_count": null,
   "id": "3fcce287",
   "metadata": {},
   "outputs": [
    {
     "data": {
      "application/vnd.jupyter.widget-view+json": {
       "model_id": "",
       "version_major": 2,
       "version_minor": 0
      },
      "text/plain": [
       "FloatProgress(value=0.0, bar_style='info', description='Progress:', layout=Layout(height='25px', width='50%'),…"
      ]
     },
     "metadata": {},
     "output_type": "display_data"
    },
    {
     "name": "stdout",
     "output_type": "stream",
     "text": [
      "+--------------------+-------+-------+-------+--------------------+--------------------+\n",
      "|              estado|      1|      2|      3|                   4|                   5|\n",
      "+--------------------+-------+-------+-------+--------------------+--------------------+\n",
      "|      aguascalientes|cytotec|  arava| keppra|             lexapro|        fosamax plus|\n",
      "|     baja california|cytotec|  arava| keppra|        fosamax plus|             lipitor|\n",
      "| baja california sur|  arava|cytotec| keppra|             lipitor|        fosamax plus|\n",
      "|            campeche|  arava|cytotec| keppra|             lipitor|        fosamax plus|\n",
      "|             chiapas|cytotec|  arava| keppra|             lipitor|        fosamax plus|\n",
      "|           chihuahua|cytotec|  arava| keppra|        fosamax plus|             lipitor|\n",
      "|    ciudad de méxico|cytotec|  arava| keppra|             lipitor|lantus. insulina ...|\n",
      "|coahuila de zaragoza|cytotec|  arava| keppra|             lexapro|        fosamax plus|\n",
      "|             durango|cytotec|  arava| keppra|             lexapro|        fosamax plus|\n",
      "|    estado de méxico|cytotec|  arava| keppra|             lipitor|        fosamax plus|\n",
      "|          guanajuato|cytotec|  arava| keppra|             lexapro|        fosamax plus|\n",
      "|            guerrero|cytotec|  arava| keppra|lantus. insulina ...|             lipitor|\n",
      "|             hidalgo|cytotec|  arava|lipitor|lantus. insulina ...|        fosamax plus|\n",
      "|             jalisco|cytotec|  arava| keppra|             lipitor|        fosamax plus|\n",
      "| michoacán de ocampo|cytotec|  arava| keppra|        fosamax plus|             lexapro|\n",
      "|             morelos|cytotec|  arava| keppra|             lipitor|        fosamax plus|\n",
      "|          nuevo león|cytotec|  arava| keppra|             lipitor|             asenlix|\n",
      "|              oaxaca|cytotec|  arava| keppra|             lipitor|        fosamax plus|\n",
      "|              puebla|cytotec|  arava| keppra|        fosamax plus|             lipitor|\n",
      "|           querétaro|cytotec|  arava| keppra|        fosamax plus|             lipitor|\n",
      "|        quintana roo|cytotec|  arava| keppra|             lipitor|        fosamax plus|\n",
      "|     san luis potosí|cytotec|  arava| keppra|        fosamax plus|             lexapro|\n",
      "|             sinaloa|cytotec|  arava| keppra|             lexapro|        fosamax plus|\n",
      "|              sonora|cytotec|  arava| keppra|        fosamax plus|             lexapro|\n",
      "|             tabasco|cytotec|  arava| keppra|             lipitor|lantus. insulina ...|\n",
      "|          tamaulipas|cytotec|  arava| keppra|        fosamax plus|             lipitor|\n",
      "|            tlaxcala|cytotec|  arava| keppra|             lipitor|        fosamax plus|\n",
      "|            veracruz|cytotec|  arava| keppra|        fosamax plus|             lipitor|\n",
      "|             yucatán|cytotec|  arava| keppra|             lipitor|        fosamax plus|\n",
      "|           zacatecas|cytotec|  arava| keppra|        fosamax plus|             lipitor|\n",
      "+--------------------+-------+-------+-------+--------------------+--------------------+"
     ]
    }
   ],
   "source": [
    "pivot_anio[2021].show(32)"
   ]
  },
  {
   "cell_type": "markdown",
   "id": "bab54f1d",
   "metadata": {},
   "source": [
    "#### 2022"
   ]
  },
  {
   "cell_type": "code",
   "execution_count": null,
   "id": "3f4c4f17",
   "metadata": {},
   "outputs": [
    {
     "data": {
      "application/vnd.jupyter.widget-view+json": {
       "model_id": "",
       "version_major": 2,
       "version_minor": 0
      },
      "text/plain": [
       "FloatProgress(value=0.0, bar_style='info', description='Progress:', layout=Layout(height='25px', width='50%'),…"
      ]
     },
     "metadata": {},
     "output_type": "display_data"
    },
    {
     "name": "stdout",
     "output_type": "stream",
     "text": [
      "+--------------------+-------+----------+--------+--------------------+--------------------+\n",
      "|              estado|      1|         2|       3|                   4|                   5|\n",
      "+--------------------+-------+----------+--------+--------------------+--------------------+\n",
      "|      aguascalientes|cytotec|     arava|  keppra|lantus. insulina ...|             lipitor|\n",
      "|     baja california|cytotec|     arava|  keppra|             lipitor|lantus. insulina ...|\n",
      "| baja california sur|  arava|   cytotec|  keppra|             lipitor|        fosamax plus|\n",
      "|            campeche|cytotec|     arava|  keppra|             lipitor|lantus. insulina ...|\n",
      "|             chiapas|cytotec|     arava|  keppra|             lipitor|        fosamax plus|\n",
      "|           chihuahua|  arava|   cytotec|  keppra|lantus. insulina ...|        fosamax plus|\n",
      "|    ciudad de méxico|cytotec|     arava|  keppra|             lipitor|lantus. insulina ...|\n",
      "|coahuila de zaragoza|  arava|   cytotec|  keppra|             lexapro|             lipitor|\n",
      "|             durango|  arava|   cytotec|  keppra|             lexapro|             lipitor|\n",
      "|    estado de méxico|cytotec|     arava|  keppra|             lipitor|lantus. insulina ...|\n",
      "|          guanajuato|cytotec|     arava|  keppra|        fosamax plus|             lexapro|\n",
      "|            guerrero| tempra|sedalmerck|aspirina|        cafiaspirina|              tabcin|\n",
      "|             hidalgo|cytotec|     arava|  keppra|             lexapro|             lipitor|\n",
      "|             jalisco|cytotec|     arava|  keppra|             lipitor|        fosamax plus|\n",
      "| michoacán de ocampo|cytotec|     arava|  keppra|             lipitor|        fosamax plus|\n",
      "|             morelos|cytotec|     arava|  keppra|             lipitor|        fosamax plus|\n",
      "|          nuevo león|cytotec|     arava|  keppra|             asenlix|             lipitor|\n",
      "|              oaxaca|cytotec|     arava|  keppra|lantus. insulina ...|             lipitor|\n",
      "|              puebla|  arava|   cytotec|  keppra|             lipitor|lantus. insulina ...|\n",
      "|           querétaro|cytotec|     arava|  keppra|             lipitor|        fosamax plus|\n",
      "|        quintana roo|cytotec|     arava|  keppra|             lipitor|        fosamax plus|\n",
      "|     san luis potosí|cytotec|     arava|  keppra|             lipitor|        fosamax plus|\n",
      "|             sinaloa|cytotec|     arava|  keppra|lantus. insulina ...|             lexapro|\n",
      "|              sonora|cytotec|     arava|  keppra|        fosamax plus|             lexapro|\n",
      "|             tabasco|cytotec|     arava|  keppra|             lipitor|lantus. insulina ...|\n",
      "|          tamaulipas|  arava|   cytotec|  keppra|             lipitor|        fosamax plus|\n",
      "|            tlaxcala|  arava|   cytotec|  keppra|             lipitor|lantus. insulina ...|\n",
      "|            veracruz|cytotec|     arava|  keppra|             lipitor|             lexapro|\n",
      "|             yucatán|cytotec|     arava|  keppra|             lipitor|lantus. insulina ...|\n",
      "|           zacatecas|cytotec|     arava|  keppra|        fosamax plus|           xatral-od|\n",
      "+--------------------+-------+----------+--------+--------------------+--------------------+"
     ]
    }
   ],
   "source": [
    "pivot_anio[2022].show(32)"
   ]
  },
  {
   "cell_type": "markdown",
   "id": "f99f0446",
   "metadata": {},
   "source": [
    "#### 2023"
   ]
  },
  {
   "cell_type": "code",
   "execution_count": null,
   "id": "f3a01281",
   "metadata": {},
   "outputs": [
    {
     "data": {
      "application/vnd.jupyter.widget-view+json": {
       "model_id": "",
       "version_major": 2,
       "version_minor": 0
      },
      "text/plain": [
       "FloatProgress(value=0.0, bar_style='info', description='Progress:', layout=Layout(height='25px', width='50%'),…"
      ]
     },
     "metadata": {},
     "output_type": "display_data"
    },
    {
     "name": "stdout",
     "output_type": "stream",
     "text": [
      "+--------------------+--------+------------+--------+--------------------+--------------------+\n",
      "|              estado|       1|           2|       3|                   4|                   5|\n",
      "+--------------------+--------+------------+--------+--------------------+--------------------+\n",
      "|      aguascalientes|   arava|     cytotec|  keppra|           xatral-od|             lipitor|\n",
      "|     baja california|   arava|     cytotec|  keppra|           xatral-od|             asenlix|\n",
      "| baja california sur|   arava|     cytotec|  keppra|             lipitor|           xatral-od|\n",
      "|            campeche|   arava|     cytotec|  keppra|             lipitor|           xatral-od|\n",
      "|             chiapas| cytotec|       arava|  keppra|             lipitor|             asenlix|\n",
      "|           chihuahua|   arava|     cytotec|  keppra|           xatral-od|             lipitor|\n",
      "|    ciudad de méxico|   arava|     cytotec|  keppra|             lipitor|           xatral-od|\n",
      "|coahuila de zaragoza|   arava|     cytotec|  keppra|           xatral-od|             lipitor|\n",
      "|             durango|   arava|     cytotec|  keppra|           xatral-od|lantus. insulina ...|\n",
      "|    estado de méxico| cytotec|       arava|  keppra|             lipitor|           xatral-od|\n",
      "|          guanajuato| cytotec|       arava|  keppra|           xatral-od|             lipitor|\n",
      "|            guerrero|  tempra|cafiaspirina|aspirina|              tabcin|suplemento alimen...|\n",
      "|             hidalgo| cytotec|       arava|  keppra|             lipitor|           xatral-od|\n",
      "|             jalisco| cytotec|       arava|  keppra|             lipitor|           xatral-od|\n",
      "| michoacán de ocampo|   arava|     cytotec|  keppra|           xatral-od|             lipitor|\n",
      "|             morelos|   arava|     cytotec|  keppra|           xatral-od|             lipitor|\n",
      "|          nuevo león|   arava|     cytotec|  keppra|           xatral-od|             lipitor|\n",
      "|              oaxaca| cytotec|       arava|  keppra|           xatral-od|             asenlix|\n",
      "|              puebla|   arava|     cytotec|  keppra|             lipitor|           xatral-od|\n",
      "|           querétaro|   arava|     cytotec|  keppra|           xatral-od|             lipitor|\n",
      "|        quintana roo|   arava|     cytotec|  keppra|             lipitor|           xatral-od|\n",
      "|     san luis potosí|   arava|     cytotec|  keppra|           xatral-od|             lipitor|\n",
      "|             sinaloa|lactacyd|        NULL|    NULL|                NULL|                NULL|\n",
      "|              sonora|   arava|     cytotec|  keppra|           xatral-od|             asenlix|\n",
      "|             tabasco| cytotec|       arava|  keppra|             lipitor|           xatral-od|\n",
      "|          tamaulipas|   arava|     cytotec|  keppra|           xatral-od|lantus. insulina ...|\n",
      "|            tlaxcala|   arava|     cytotec|  keppra|           xatral-od|             lipitor|\n",
      "|            veracruz|   arava|     cytotec|  keppra|             lipitor|           xatral-od|\n",
      "|             yucatán|   arava|     cytotec|  keppra|             lipitor|           xatral-od|\n",
      "|           zacatecas|   arava|     cytotec|  keppra|lantus. insulina ...|           xatral-od|\n",
      "+--------------------+--------+------------+--------+--------------------+--------------------+"
     ]
    }
   ],
   "source": [
    "pivot_anio[2023].show(32)"
   ]
  },
  {
   "cell_type": "markdown",
   "id": "cd3a2869",
   "metadata": {},
   "source": [
    "#### 2024"
   ]
  },
  {
   "cell_type": "code",
   "execution_count": null,
   "id": "6024a37f",
   "metadata": {},
   "outputs": [
    {
     "data": {
      "application/vnd.jupyter.widget-view+json": {
       "model_id": "",
       "version_major": 2,
       "version_minor": 0
      },
      "text/plain": [
       "FloatProgress(value=0.0, bar_style='info', description='Progress:', layout=Layout(height='25px', width='50%'),…"
      ]
     },
     "metadata": {},
     "output_type": "display_data"
    },
    {
     "name": "stdout",
     "output_type": "stream",
     "text": [
      "+--------------------+-------+-------+------+--------------------+--------------------+\n",
      "|              estado|      1|      2|     3|                   4|                   5|\n",
      "+--------------------+-------+-------+------+--------------------+--------------------+\n",
      "|      aguascalientes|  arava|cytotec|keppra|           xatral-od|lantus. insulina ...|\n",
      "|     baja california|  arava|cytotec|keppra|           xatral-od|        secotex ocas|\n",
      "| baja california sur|  arava|cytotec|keppra|           xatral-od|lantus. insulina ...|\n",
      "|            campeche|  arava|cytotec|keppra|           xatral-od|lantus. insulina ...|\n",
      "|             chiapas|  arava|cytotec|keppra|        secotex ocas|             asenlix|\n",
      "|           chihuahua|  arava|cytotec|keppra|           xatral-od|lantus. insulina ...|\n",
      "|    ciudad de méxico|  arava|cytotec|keppra|           xatral-od|             lipitor|\n",
      "|coahuila de zaragoza|  arava|cytotec|keppra|           xatral-od|lantus. insulina ...|\n",
      "|             durango|  arava|cytotec|keppra|           xatral-od|lantus. insulina ...|\n",
      "|    estado de méxico|  arava|cytotec|keppra|           xatral-od|             lipitor|\n",
      "|          guanajuato|cytotec|  arava|keppra|           xatral-od|lantus. insulina ...|\n",
      "|            guerrero|  arava|cytotec|keppra|           xatral-od|             asenlix|\n",
      "|             hidalgo|  arava|cytotec|keppra|           xatral-od|             asenlix|\n",
      "|             jalisco|  arava|cytotec|keppra|           xatral-od|lantus. insulina ...|\n",
      "| michoacán de ocampo|  arava|cytotec|keppra|           xatral-od|             asenlix|\n",
      "|             morelos|  arava|cytotec|keppra|           xatral-od|             lipitor|\n",
      "|          nuevo león|  arava|cytotec|keppra|           xatral-od|lantus. insulina ...|\n",
      "|              oaxaca|cytotec|  arava|keppra|             asenlix|           xatral-od|\n",
      "|              puebla|  arava|cytotec|keppra|           xatral-od|             lipitor|\n",
      "|           querétaro|  arava|cytotec|keppra|           xatral-od|             lipitor|\n",
      "|        quintana roo|  arava|cytotec|keppra|           xatral-od|             lipitor|\n",
      "|     san luis potosí|  arava|cytotec|keppra|           xatral-od|lantus. insulina ...|\n",
      "|              sonora|  arava|cytotec|keppra|lantus. insulina ...|           xatral-od|\n",
      "|             tabasco|  arava|cytotec|keppra|           xatral-od|             lipitor|\n",
      "|          tamaulipas|  arava|cytotec|keppra|           xatral-od|lantus. insulina ...|\n",
      "|            tlaxcala|  arava|cytotec|keppra|           xatral-od|             asenlix|\n",
      "|            veracruz|  arava|cytotec|keppra|             lipitor|           xatral-od|\n",
      "|             yucatán|  arava|cytotec|keppra|           xatral-od|lantus. insulina ...|\n",
      "|           zacatecas|  arava|cytotec|keppra|           xatral-od|lantus. insulina ...|\n",
      "+--------------------+-------+-------+------+--------------------+--------------------+"
     ]
    }
   ],
   "source": [
    "pivot_anio[2024].show(32)"
   ]
  },
  {
   "cell_type": "code",
   "execution_count": null,
   "id": "b5ba453d",
   "metadata": {},
   "outputs": [],
   "source": []
  },
  {
   "cell_type": "code",
   "execution_count": null,
   "id": "23c06ece",
   "metadata": {},
   "outputs": [],
   "source": []
  }
 ],
 "metadata": {
  "kernelspec": {
   "display_name": "arquitectura",
   "language": "python",
   "name": "python3"
  },
  "language_info": {
   "codemirror_mode": {
    "name": "python",
    "version": 3
   },
   "file_extension": ".py",
   "mimetype": "text/x-python",
   "name": "python",
   "pygments_lexer": "python3",
   "version": "3.11.11"
  }
 },
 "nbformat": 4,
 "nbformat_minor": 5
}
